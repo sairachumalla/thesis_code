{
  "nbformat": 4,
  "nbformat_minor": 0,
  "metadata": {
    "colab": {
      "provenance": []
    },
    "kernelspec": {
      "name": "python3",
      "display_name": "Python 3"
    },
    "language_info": {
      "name": "python"
    }
  },
  "cells": [
    {
      "cell_type": "code",
      "execution_count": null,
      "metadata": {
        "id": "cmF3t7f5swzJ",
        "colab": {
          "base_uri": "https://localhost:8080/"
        },
        "outputId": "a3005c5a-26c9-4d73-9cb7-a1d9d07fc2b8"
      },
      "outputs": [
        {
          "output_type": "stream",
          "name": "stdout",
          "text": [
            "Mounted at /content/drive\n"
          ]
        }
      ],
      "source": [
        "from google.colab import drive\n",
        "drive.mount('/content/drive')"
      ]
    },
    {
      "cell_type": "code",
      "source": [
        "import pandas as pd\n",
        "import numpy as np\n",
        "\n",
        "p1 = pd.read_csv('/content/drive/My Drive/jan_lmp.csv')\n",
        "p2 = pd.read_csv('/content/drive/My Drive/feb_lmp.csv')\n",
        "p3 = pd.read_csv('/content/drive/My Drive/mar_lmp.csv')\n",
        "p4 = pd.read_csv('/content/drive/My Drive/apr_lmp.csv')\n",
        "p5 = pd.read_csv('/content/drive/My Drive/may_lmp.csv')\n",
        "p6 = pd.read_csv('/content/drive/My Drive/jun_lmp.csv')\n",
        "p7 = pd.read_csv('/content/drive/My Drive/jul_lmp.csv')\n",
        "p8 = pd.read_csv('/content/drive/My Drive/aug_lmp.csv')\n",
        "p9 = pd.read_csv('/content/drive/My Drive/sep_lmp.csv')\n",
        "p10 = pd.read_csv('/content/drive/My Drive/oct_lmp.csv')\n",
        "p11 = pd.read_csv('/content/drive/My Drive/nov_lmp.csv')\n",
        "p12 = pd.read_csv('/content/drive/My Drive/dec_lmp.csv')\n",
        "merged_df = pd.concat([p1, p2,p3,p4,p5,p6,p7,p8,p9,p10,p11,p12], ignore_index=True)\n"
      ],
      "metadata": {
        "id": "jhPwaYsQyyGt"
      },
      "execution_count": null,
      "outputs": []
    },
    {
      "cell_type": "code",
      "source": [
        "merged_df2 = pd.read_csv('/content/drive/My Drive/2021data.csv').drop_duplicates()\n",
        "merged_df3 = pd.read_csv('/content/drive/My Drive/2020data.csv').drop_duplicates()\n",
        "total_df = pd.concat([merged_df,merged_df2,merged_df3], ignore_index=True)\n",
        "#feb-29\n",
        "#3years of price data\n",
        "import time\n",
        "import requests\n",
        "import zipfile\n",
        "import pandas as pd\n",
        "from io import BytesIO\n",
        "\n",
        "specified_values = ['096WD_7_N001','24017_BLYTHESC_161_GUS1','2C559EQ2_7_N001','2C577C1_7_N001','2PBLSM34_7_N001','ACACIA_7_N001','ADERAG1_7_N001','AQUAWS_2_AQWSR1-APND','ARLNG2MV_7_N001','ASTORIA1_7_N001','ASTORIA2_7_N001','AVENGEN_7_N001','AVLYSLR_7_N005','BGSKYGN3_7_N001','BGSKYGN3_7_N001','BIGSK230_2_N025','BIGSK230_2_N025','BIGSK230_2_N025','BIGSKGN1_7_N001','BIGSKGN6_7_N001','BLACKWLL_7_N002','BLUESKY_7_N001','BLYTHESC_1_N008','BLYTHESC_1_N008','BORREGO_6_N009','BSKYNGSU_2_N002','BSKYNPM_7_N001','BSKYNPM_7_N003','BSKYNPM_7_N004','BSKYNPM_7_N005','BUCKWND_1_N201','GARNET_7_N008','C643TM1_7_N001','CABALLO3_7_N001','CANTGEN_7_N002','CATALNA2_7_N001','CAVLSRGN_7_B1','CENT403_7_N006','CENTANTE_7_N001','COLCT334_7_N001','COPUS_6_N001','CORCRAN2_7_N001','DAVIS_1_N030','DAWNLS_7_N001','DEVERS_1_N102','DEVERS_1_N103','DEVERS_2_N072','DMDVLY_1_UNITS-APND','DRYRANCH_7_N001','DUCORGN1_7_N001','DUCORGN2_7_N001','DUCORGN3_7_N001','DUCORGN4_7_N001','FBERBORD_1_N001','FNTRG1_7_N001','FRWTG1_7_N001','GASKW1B2_7_N003','GASLRAGN_7_N001','GASLRGN_7_N001','GATESBK4_7_N002','GATESBK4_7_N003','GIFFGEN_7_N001','GIFFGEN_7_N002','GIFFGEN_7_N002','GLDTGEN_7_N003','GNS1_7_B1','GUERSEY_7_N001','HENRTGEN_7_N001','HIDSRT_2_UNITS-APND','HURONGEN_7_ND002','INYOKERN_1_N008','ISIS_7_N002','KANSASGN_7_N002','LAMONT_1_N002','LEMORSLR_7_N003','LNGBATGN_7_N001','LOCKFORD_7_N004','LSQ855_7_N001','MAGUNDEN_1_N006','MESQSLR2_7_N002','MSOLGEN3_7_N003','NLANCRAN_7_N001','OASISG2_7_N001','OROLMGN_7_N005','PMPJKG2_7_N001','PNCHVS_2_SOLAR-APND','PTSB6_7_B2','Q1032C2_7_N001','Q442GEN_7_N005','Q442GEN_7_N012','Q482_7_N001','Q532C2_7_N001','Q548_7_N001','Q557_7_N005','Q620_7_N001','Q633C1_7_N001','Q643WC2_7_N001','Q643XC2_7_N001','Q644A2_7_N001','Q653B_7_N001','Q723EQ2_7_N001','Q965C2_7_N001','Q972GEN_7_N001','RICHMOND_1_GN001','RTEDDYG3_7_N003','RVRBANK_1_N010','S0479_7_N003','S473_7_N005','S621AC_7_N001','S621AC_7_N002','S622B_7_N003','S654_7_N001','SCHLNDLR_7_N002','SCHLNDLR_7_N002','SCHLNDLR_7_N003','SGSAVF1_7_N001','SGSAVF2_7_N001','SLATE_7_N001','SLSTR1_2_SOLAR1-APND','SLSTR2_2_SOLAR2-APND','STHKERN_7_N001','STROUD_6_N003','SUB434_7_N001','SUNRAY2_7_N001','SUNRAYGN_7_N001','SUNSPTA_7_N002','T0304_7_N003','TITANS34_7_N001','TOT427A_7_N001','TOT545L_7_N001','TWILGHTL_7_N001','VALTNEGN_7_N002','VALTNEGN_7_N003','VESTAL_6_N025','VICTOR_7_GN002','VICTOR_7_N008','VICTOR_7_N002','VICTOR_7_N006','VICTOR_7_N007','VICTOR_7_N009','VICTOR_7_N010','VICTOR_7_N011','WAUKENA_7_N003','WDT404L_7_N001','WLDWDG2_7_N001','WNSTRGN1_7_N001','WRGTSRGN_7_N001','BSKYNPM_7_N001','PURISIMA_1_N001','BSKYNPM_7_N001','PEWWOOD_7_B1','LSTHLLS_6_N001','OBERON_7_N182','OBERON_7_N182','24017_BLYTHESC_161_GUS1','24017_BLYTHESC_161_GUS1','LERDO_1_N004','ANTELOPE_6_N001','OBERON_7_N182','OBERON_7_N182','BIOMSJCT_6_GN001','BSKYNPM_7_N005','VALTNEGN_7_N002','Q442GEN_7_N012','DSRTHV3_7_N003']\n",
        "url = 'http://oasis.caiso.com/oasisapi/SingleZip?resultformat=6&queryname=PRC_LMP&version=12&startdatetime='+str(2020)+'0229T08:00-0000&enddatetime='+str(2020)+'0301T08:00-0000&market_run_id=DAM&grp_type=ALL'\n",
        "response = requests.get(url)\n",
        "with zipfile.ZipFile(BytesIO(response.content)) as zip_file:\n",
        "# Assuming there's only one file in the zip archive\n",
        "  file_name = zip_file.namelist()[0]\n",
        "  with zip_file.open(file_name) as csv_file:\n",
        "    # Read the CSV file into pandas DataFrame\n",
        "    df = pd.read_csv(csv_file)\n",
        "  df = df[df['NODE'].isin(specified_values)]\n",
        "total_df = pd.concat([total_df,df], ignore_index=True)\n",
        "total_df = total_df.drop_duplicates()"
      ],
      "metadata": {
        "id": "dOuZB1wWyzws"
      },
      "execution_count": null,
      "outputs": []
    },
    {
      "cell_type": "code",
      "source": [
        "mappings_final = pd.read_csv('/content/drive/My Drive/mappings_curtailment_final.csv')"
      ],
      "metadata": {
        "id": "VRmUpKMuy23B"
      },
      "execution_count": null,
      "outputs": []
    },
    {
      "cell_type": "code",
      "source": [
        "for i,row in mappings_final.iterrows():\n",
        "  df = pd.read_csv('/content/drive/My Drive/final gen data/'+str(row['EIA ID'])+'.csv')\n",
        "  df = df.rename(columns={'Unnamed: 0': 'datetime'})\n",
        "  df['datetime_no_year']= df['datetime'].apply(lambda x: x[5:])\n",
        "  df['year'] = df['datetime'].apply(lambda x: x[0:4])\n",
        "  df = df[df['year'].isin(['2020','2021','2022'])]\n",
        "  df['gen_combined'] = df['gen_curtailed'].fillna(0)+ df['gen_clean']\n",
        "  df['EnergyPred'] = 0\n",
        "  df['EnergyPred'] = df.groupby('datetime_no_year')['gen_combined'].transform(lambda x: x.expanding().mean())\n",
        "  df['EnergyPred'].fillna(0, inplace=True)\n",
        "  df.to_csv('/content/drive/My Drive/'+str(row['EIA ID'])+'_preds3.csv')\n"
      ],
      "metadata": {
        "id": "hO637dLItKNU"
      },
      "execution_count": null,
      "outputs": []
    },
    {
      "cell_type": "code",
      "source": [
        "#Average energy production, 2022 prices increasing\n",
        "#Optimal Battery Model\n",
        " # Import packages.\n",
        "import cvxpy as cp\n",
        "import numpy as np\n",
        "for i,row in mappings_final.iterrows():\n",
        "\n",
        "    if i == 47:\n",
        "      continue\n",
        "    if i == 69:\n",
        "      continue\n",
        "    if i ==73:\n",
        "      continue\n",
        "    if i==107:\n",
        "      continue\n",
        "    if i == 108:\n",
        "      continue\n",
        "    if i == 109:\n",
        "      continue\n",
        "    df = pd.read_csv('/content/drive/My Drive/'+str(row['EIA ID'])+'_preds2.csv')\n",
        "    df_2022 = df[df['year']==2022][8:]\n",
        "    df_2020 = df[df['year']==2020][8:]\n",
        "    df_2020 = df_2020[df_2020['datetime_no_year'].str[0:5]!='02-29']\n",
        "    df_2021 = df[df['year']==2021][8:]\n",
        "    df2 = pd.read_csv('/content/drive/My Drive/'+str(row['EIA ID'])+'_preds3.csv')\n",
        "    energyProd = df2[df2['year']==2022][8:]['EnergyPred'].values\n",
        "    curtailed = (df_2022['percent_curtailed'].fillna(0).values + df_2021['percent_curtailed'].fillna(0).values\n",
        "     + df_2020['percent_curtailed'].fillna(0).values)/3\n",
        "    curtailment = energyProd*(curtailed)*0.85\n",
        "    energyProd = (1-curtailed)*energyProd*0.85\n",
        "    price_total = [0 for i in range(8752)]\n",
        "    price_data = total_df[total_df[\"XML_DATA_ITEM\"] == \"LMP_PRC\"]\n",
        "    price_data = price_data[['INTERVALSTARTTIME_GMT','OPR_DT','NODE_ID','MW']].sort_values(by='INTERVALSTARTTIME_GMT')\n",
        "    price_data = price_data[price_data['OPR_DT'] != '2020-02-29']\n",
        "    prices = price_data[price_data['NODE_ID'] == row['Nodes']]\n",
        "    for m in range(2020,2023):\n",
        "        if m != 2022:\n",
        "          prices2 = prices.loc[prices['OPR_DT'].str[0:4] == str(m)]['MW'].values[:-8]\n",
        "        else:\n",
        "          prices2 = prices.loc[prices['OPR_DT'].str[0:4] == str(m)]['MW'].values\n",
        "        prices_non_negative = np.array([0 if x < 0 else x for x in prices2])\n",
        "        price_total = price_total + prices_non_negative*(1.0335)**(2022-m)\n",
        "    prices = price_total/3\n",
        "    n = len(prices)\n",
        "    qt_d = cp.Variable(n)\n",
        "    qt_r_curtail = cp.Variable(n)\n",
        "    qt_r_no_curtail = cp.Variable(n)\n",
        "    qt_r = qt_r_curtail + qt_r_no_curtail\n",
        "    s_t = cp.Variable(n)\n",
        "\n",
        "    s_hat = cp.Variable(1)\n",
        "    qr_hat = s_hat*0.25\n",
        "    qd_hat = s_hat*0.25\n",
        "    prob1 = (prices.T@qt_d)\n",
        "    prob2 = (prices.T@qt_r_no_curtail)\n",
        "\n",
        "\n",
        "    consts2 = [s_t[i] == s_t[i - 1] + 0.9025 *  qt_r[i] - qt_d[i] for i in range(1, n)\n",
        "          ] + [s_t[i] == 0 for i in range(0, n, 24)\n",
        "          ] + [qt_r_curtail[i] <= curtailment[i] for i in range(0, n)\n",
        "          ] + [qt_r_no_curtail[i] <= energyProd[i] for i in range(0, n)\n",
        "          ] + [s_t <= s_hat,\n",
        "              s_t[0] == 0,\n",
        "              0 <= s_t,\n",
        "              qt_r <= qr_hat,\n",
        "              0 <= qt_r,\n",
        "              0 <= qt_r_curtail,\n",
        "              0 <= qt_r_no_curtail,\n",
        "              qt_d <= qd_hat,\n",
        "              0 <= qt_d,\n",
        "              qt_d[0]==0]\n",
        "\n",
        "\n",
        "    prob = cp.Problem(cp.Maximize(20*(prob1-prob2) - 0.6*681917*s_hat),consts2)\n",
        "    prob.solve()\n",
        "    mappings_final.loc[i,'avg_price_avg_energy_perfect_improvement'] = prob.value\n",
        "    mappings_final.loc[i,'battery_size_avgprice_avgenergy_perf'] = s_hat.value[0]\n",
        "    mappings_final.loc[i,'energy_surplus'] = sum(qt_r_curtail.value)*20\n",
        "    mappings_final.loc[i,'energy_normal'] = sum(energyProd)*20\n",
        "    if i%5 == 0:\n",
        "      mappings_final.to_csv('/content/drive/My Drive/mappings_final_twenty_year_curtailment_energy_stableprice2'+str(i)+'.csv')\n",
        "mappings_final.to_csv('/content/drive/My Drive/mappings_final_twenty_year_curtailment_energy_stableprice2'+str(i)+'.csv')\n",
        "\n",
        "#declining energy production, 2022 prices increasing overtime\n",
        "#average energy production, average prices not increasing overtime\n",
        "#declining energy production, average prices not increasing overtime\n",
        "#seriously declining eergy production"
      ],
      "metadata": {
        "id": "vJm1zSJszKg0"
      },
      "execution_count": null,
      "outputs": []
    },
    {
      "cell_type": "code",
      "source": [
        "i"
      ],
      "metadata": {
        "id": "el9WwxMfL_Va"
      },
      "execution_count": null,
      "outputs": []
    },
    {
      "cell_type": "code",
      "source": [],
      "metadata": {
        "id": "xBlV-ObQTERh"
      },
      "execution_count": null,
      "outputs": []
    }
  ]
}